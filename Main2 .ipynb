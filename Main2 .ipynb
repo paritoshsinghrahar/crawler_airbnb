{
 "cells": [
  {
   "cell_type": "code",
   "execution_count": 1,
   "id": "28a3bdfd",
   "metadata": {},
   "outputs": [],
   "source": [
    "import requests\n",
    "from fp.fp import FreeProxy\n",
    "\n",
    "def calling_api(lat_long):\n",
    "    payload = {\"tab_id\": \"home_tab\",\n",
    "               \"ne_lat\" : lat_long[0],\n",
    "               \"ne_lng\" : lat_long[1],\n",
    "               \"sw_lat\" : lat_long[2],\n",
    "               \"sw_lng\" : lat_long[3]}\n",
    "    \n",
    "    proxy = FreeProxy(rand=True).get()\n",
    "\n",
    "\n",
    "    header_val ={\"x-airbnb-api-key\":\"d306zoyjsyarp7ifhu67rjxn52tv0t20\"}\n",
    "    r = requests.get(\"https://api.airbnb.com/v2/explore_tabs\", headers = header_val, params=payload, proxies = {\"http\":proxy})\n",
    "    return r "
   ]
  },
  {
   "cell_type": "code",
   "execution_count": 2,
   "id": "8934874a",
   "metadata": {},
   "outputs": [],
   "source": [
    "def square_corners(coord):\n",
    "    ne_lat,ne_lng,sw_lat,sw_lng = coord[0], coord[1], coord[2], coord[3]\n",
    "    lng_dif = ne_lng - sw_lng\n",
    "    mid_lng = lng_dif/2 + sw_lng\n",
    "    lat_dif = ne_lat - sw_lat\n",
    "    mid_lat = lat_dif/2 + sw_lat   \n",
    "    \n",
    "    sq1 = [ne_lat,mid_lng,mid_lat,sw_lng]\n",
    "    sq2 = [mid_lat,mid_lng,sw_lat,sw_lng]\n",
    "    sq3 = [ne_lat,ne_lng,mid_lat,mid_lng]\n",
    "    sq4 = [mid_lat,ne_lng,sw_lat,mid_lng]\n",
    "    \n",
    "    return sq1,sq2,sq3,sq4"
   ]
  },
  {
   "cell_type": "code",
   "execution_count": 3,
   "id": "76daf8d3",
   "metadata": {},
   "outputs": [],
   "source": [
    "listing_ids_list = dict()"
   ]
  },
  {
   "cell_type": "code",
   "execution_count": 4,
   "id": "19a21536",
   "metadata": {
    "scrolled": true
   },
   "outputs": [
    {
     "name": "stdout",
     "output_type": "stream",
     "text": [
      "[42.396796, -70.921061, 42.227402, -71.19061]\n",
      "[42.396796, -70.921061, 42.227402, -71.19061]\n",
      "[42.396796, -70.921061, 42.227402, -71.19061]\n",
      "[42.396796, -70.921061, 42.227402, -71.19061]\n",
      "4 16 1001\n",
      "[42.396796, -71.0558355, 42.312099, -71.19061]\n",
      "[42.312099, -71.0558355, 42.227402, -71.19061]\n",
      "[42.396796, -70.921061, 42.312099, -71.0558355]\n",
      "[42.312099, -70.921061, 42.227402, -71.0558355]\n",
      "7 29 1001\n",
      "[42.312099, -71.0558355, 42.227402, -71.19061]\n",
      "[42.396796, -70.921061, 42.312099, -71.0558355]\n",
      "[42.312099, -70.921061, 42.227402, -71.0558355]\n",
      "[42.396796, -71.12322275, 42.354447500000006, -71.19061]\n",
      "[42.354447500000006, -71.12322275, 42.312099, -71.19061]\n",
      "[42.396796, -71.0558355, 42.354447500000006, -71.12322275]\n",
      "10 38 1001\n"
     ]
    },
    {
     "ename": "KeyboardInterrupt",
     "evalue": "",
     "output_type": "error",
     "traceback": [
      "\u001b[0;31m---------------------------------------------------------------------------\u001b[0m",
      "\u001b[0;31mKeyboardInterrupt\u001b[0m                         Traceback (most recent call last)",
      "\u001b[0;32m/var/folders/d5/grs1zkc53qbg_2kz066pn5x00000gn/T/ipykernel_22652/1545168056.py\u001b[0m in \u001b[0;36m<module>\u001b[0;34m\u001b[0m\n\u001b[1;32m      6\u001b[0m \u001b[0;34m\u001b[0m\u001b[0m\n\u001b[1;32m      7\u001b[0m \u001b[0;32mwhile\u001b[0m \u001b[0mq\u001b[0m\u001b[0;34m.\u001b[0m\u001b[0mempty\u001b[0m\u001b[0;34m(\u001b[0m\u001b[0;34m)\u001b[0m \u001b[0;32mis\u001b[0m \u001b[0;32mnot\u001b[0m \u001b[0;32mTrue\u001b[0m\u001b[0;34m:\u001b[0m\u001b[0;34m\u001b[0m\u001b[0;34m\u001b[0m\u001b[0m\n\u001b[0;32m----> 8\u001b[0;31m     \u001b[0mtime\u001b[0m\u001b[0;34m.\u001b[0m\u001b[0msleep\u001b[0m\u001b[0;34m(\u001b[0m\u001b[0;36m5\u001b[0m\u001b[0;34m)\u001b[0m\u001b[0;34m\u001b[0m\u001b[0;34m\u001b[0m\u001b[0m\n\u001b[0m\u001b[1;32m      9\u001b[0m     \u001b[0mcoord\u001b[0m \u001b[0;34m=\u001b[0m \u001b[0mq\u001b[0m\u001b[0;34m.\u001b[0m\u001b[0mget\u001b[0m\u001b[0;34m(\u001b[0m\u001b[0;34m)\u001b[0m\u001b[0;34m\u001b[0m\u001b[0;34m\u001b[0m\u001b[0m\n\u001b[1;32m     10\u001b[0m     \u001b[0;32mtry\u001b[0m\u001b[0;34m:\u001b[0m\u001b[0;34m\u001b[0m\u001b[0;34m\u001b[0m\u001b[0m\n",
      "\u001b[0;31mKeyboardInterrupt\u001b[0m: "
     ]
    }
   ],
   "source": [
    "import queue\n",
    "import time\n",
    "\n",
    "q = queue.Queue()\n",
    "q.put([42.396796, -70.921061, 42.227402, -71.190610])\n",
    "\n",
    "while q.empty() is not True:\n",
    "    time.sleep(5)\n",
    "    coord = q.get()\n",
    "    try:\n",
    "        result_api = calling_api(coord)\n",
    "        result_api_json = result_api.json()\n",
    "\n",
    "        traverse_json = result_api_json['explore_tabs'][0]\n",
    "        for i in traverse_json[\"sections\"]:\n",
    "                if i[\"result_type\"] == \"listings\":\n",
    "                    for k in i[\"listings\"]:\n",
    "                        if k[\"listing\"][\"id\"] in listing_ids_list:\n",
    "                            continue\n",
    "                        else:\n",
    "                            listing_ids_list[k[\"listing\"][\"id\"]] = 1\n",
    "\n",
    "        if traverse_json[\"home_tab_metadata\"]['listings_count'] > 1:\n",
    "            sq1,sq2,sq3,sq4 = square_corners(coord)\n",
    "            q.put(sq1)\n",
    "            q.put(sq2)\n",
    "            q.put(sq3)\n",
    "            q.put(sq4)\n",
    "        \n",
    "    except:\n",
    "        q.put(coord)\n",
    "        pass\n",
    "        \n"
   ]
  },
  {
   "cell_type": "code",
   "execution_count": null,
   "id": "294dd730",
   "metadata": {},
   "outputs": [],
   "source": [
    "listing_ids_list"
   ]
  },
  {
   "cell_type": "code",
   "execution_count": null,
   "id": "2c8d76ec",
   "metadata": {},
   "outputs": [],
   "source": [
    "listing_ids_list"
   ]
  },
  {
   "cell_type": "code",
   "execution_count": null,
   "id": "786a8070",
   "metadata": {},
   "outputs": [],
   "source": [
    "import requests\n",
    "import pandas as pd\n",
    "\n",
    "def api_calls_count_review(listing_id_val):\n",
    "    payload = {\"listing_id\": listing_id_val ,\n",
    "               \"limit\" : 0,\n",
    "              }\n",
    "\n",
    "    header_val ={\"x-airbnb-api-key\":\"d306zoyjsyarp7ifhu67rjxn52tv0t20\"}\n",
    "    result_api = requests.get(\"https://api.airbnb.com/v2/homes_pdp_reviews\", headers = header_val, params=payload)\n",
    "    result_api_json = result_api.json()\n",
    "\n",
    "    return result_api_json['metadata']['reviews_count']\n",
    "\n",
    "def api_calls_val_review(listing_id_val, limit_val ):\n",
    "    payload = {\"listing_id\": listing_id_val ,\n",
    "               \"limit\" : limit_val,\n",
    "              }\n",
    "\n",
    "    header_val ={\"x-airbnb-api-key\":\"d306zoyjsyarp7ifhu67rjxn52tv0t20\"}\n",
    "    result_api = requests.get(\"https://api.airbnb.com/v2/homes_pdp_reviews\", headers = header_val, params=payload)\n",
    "    result_api_json = result_api.json()\n",
    "\n",
    "    reviews_list=[]\n",
    "    for i in result_api_json['reviews']:\n",
    "        reviews_list.append(i['comments'])\n",
    "    \n",
    "    return pd.DataFrae(reviews_list,columns=[listing_id_val])\n",
    "    "
   ]
  },
  {
   "cell_type": "code",
   "execution_count": null,
   "id": "a9519842",
   "metadata": {},
   "outputs": [],
   "source": [
    "result = pd.DataFrame()\n",
    "for i in listing_ids_list:\n",
    "    limit_val = api_calls_count_review(i)\n",
    "    df1 = api_calls_val_review(i,limit_val)\n",
    "    result =  pd.concat([result,df1], axis=1)\n",
    "    \n",
    "result"
   ]
  },
  {
   "cell_type": "code",
   "execution_count": null,
   "id": "3e6f38f5",
   "metadata": {},
   "outputs": [],
   "source": []
  },
  {
   "cell_type": "code",
   "execution_count": null,
   "id": "6f0af9ea",
   "metadata": {},
   "outputs": [],
   "source": []
  }
 ],
 "metadata": {
  "kernelspec": {
   "display_name": "Python 3 (ipykernel)",
   "language": "python",
   "name": "python3"
  },
  "language_info": {
   "codemirror_mode": {
    "name": "ipython",
    "version": 3
   },
   "file_extension": ".py",
   "mimetype": "text/x-python",
   "name": "python",
   "nbconvert_exporter": "python",
   "pygments_lexer": "ipython3",
   "version": "3.9.7"
  }
 },
 "nbformat": 4,
 "nbformat_minor": 5
}
