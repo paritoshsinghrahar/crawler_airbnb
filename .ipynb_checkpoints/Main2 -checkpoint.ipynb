{
 "cells": [
  {
   "cell_type": "code",
   "execution_count": 1,
   "id": "7079d4b8",
   "metadata": {},
   "outputs": [],
   "source": [
    "import requests\n",
    "from fp.fp import FreeProxy\n",
    "\n",
    "def calling_api(lat_long):\n",
    "    payload = {\"tab_id\": \"home_tab\",\n",
    "               \"ne_lat\" : lat_long[0],\n",
    "               \"ne_lng\" : lat_long[1],\n",
    "               \"sw_lat\" : lat_long[2],\n",
    "               \"sw_lng\" : lat_long[3]}\n",
    "    \n",
    "    proxy = FreeProxy(rand=True).get()\n",
    "\n",
    "\n",
    "    header_val ={\"x-airbnb-api-key\":\"d306zoyjsyarp7ifhu67rjxn52tv0t20\"}\n",
    "    r = requests.get(\"https://api.airbnb.com/v2/explore_tabs\", headers = header_val, params=payload, proxies = {\"http\":proxy})\n",
    "    return r "
   ]
  },
  {
   "cell_type": "code",
   "execution_count": 2,
   "id": "b4ff91ed",
   "metadata": {},
   "outputs": [],
   "source": [
    "def square_corners(coord):\n",
    "    ne_lat,ne_lng,sw_lat,sw_lng = coord[0], coord[1], coord[2], coord[3]\n",
    "    lng_dif = ne_lng - sw_lng\n",
    "    mid_lng = lng_dif/2 + sw_lng\n",
    "    lat_dif = ne_lat - sw_lat\n",
    "    mid_lat = lat_dif/2 + sw_lat   \n",
    "    \n",
    "    sq1 = [ne_lat,mid_lng,mid_lat,sw_lng]\n",
    "    sq2 = [mid_lat,mid_lng,sw_lat,sw_lng]\n",
    "    sq3 = [ne_lat,ne_lng,mid_lat,mid_lng]\n",
    "    sq4 = [mid_lat,ne_lng,sw_lat,mid_lng]\n",
    "    \n",
    "    return sq1,sq2,sq3,sq4"
   ]
  },
  {
   "cell_type": "code",
   "execution_count": 3,
   "id": "9275c538",
   "metadata": {},
   "outputs": [],
   "source": [
    "listing_ids_list = dict()"
   ]
  },
  {
   "cell_type": "code",
   "execution_count": null,
   "id": "6f466bf5",
   "metadata": {
    "scrolled": true
   },
   "outputs": [
    {
     "name": "stdout",
     "output_type": "stream",
     "text": [
      "4 16 1001\n",
      "7 29 1001\n",
      "10 45 204\n",
      "13 58 376\n",
      "16 70 86\n",
      "19 84 21\n",
      "22 98 133\n",
      "25 111 440\n",
      "28 116 44\n",
      "31 123 96\n",
      "34 134 38\n",
      "37 142 93\n",
      "40 154 28\n",
      "43 164 13\n",
      "46 180 371\n",
      "49 193 1001\n",
      "52 201 27\n",
      "51 202 1\n",
      "54 204 6\n",
      "57 212 12\n",
      "60 219 16\n",
      "63 233 112\n",
      "62 233 0\n",
      "65 244 80\n",
      "68 253 1001\n",
      "71 264 65\n",
      "74 269 9\n",
      "73 269 0\n",
      "76 274 15\n",
      "79 275 4\n",
      "78 275 1\n",
      "81 275 9\n",
      "84 285 22\n",
      "87 295 10\n",
      "90 306 15\n"
     ]
    }
   ],
   "source": [
    "import queue\n",
    "import time\n",
    "\n",
    "q = queue.Queue()\n",
    "q.put([42.396796, -70.921061, 42.227402, -71.190610])\n",
    "\n",
    "while q.empty() is not True:\n",
    "    coord = q.get()\n",
    "    try:\n",
    "        result_api = calling_api(coord)\n",
    "        result_api_json = result_api.json()\n",
    "\n",
    "        traverse_json = result_api_json['explore_tabs'][0]\n",
    "        for i in traverse_json[\"sections\"]:\n",
    "                if i[\"result_type\"] == \"listings\":\n",
    "                    for k in i[\"listings\"]:\n",
    "                        if k[\"listing\"][\"id\"] in listing_ids_list:\n",
    "                            continue\n",
    "                        else:\n",
    "                            listing_ids_list[k[\"listing\"][\"id\"]] = 1\n",
    "\n",
    "        if traverse_json[\"home_tab_metadata\"]['listings_count'] > 1:\n",
    "            sq1,sq2,sq3,sq4 = square_corners(coord)\n",
    "            q.put(sq1)\n",
    "            q.put(sq2)\n",
    "            q.put(sq3)\n",
    "            q.put(sq4)\n",
    "\n",
    "        print(q.qsize(),len(listing_ids_list),traverse_json[\"home_tab_metadata\"]['listings_count'])\n",
    "        \n",
    "    except:\n",
    "        q.put(coord)\n",
    "        pass\n",
    "        \n",
    " "
   ]
  },
  {
   "cell_type": "code",
   "execution_count": null,
   "id": "1fb70363",
   "metadata": {},
   "outputs": [],
   "source": [
    "listing_ids_list"
   ]
  },
  {
   "cell_type": "code",
   "execution_count": null,
   "id": "19733128",
   "metadata": {},
   "outputs": [],
   "source": [
    "listing_ids_list"
   ]
  },
  {
   "cell_type": "code",
   "execution_count": null,
   "id": "4086eaeb",
   "metadata": {},
   "outputs": [],
   "source": [
    "import requests\n",
    "import pandas as pd\n",
    "\n",
    "def api_calls_count_review(listing_id_val):\n",
    "    payload = {\"listing_id\": listing_id_val ,\n",
    "               \"limit\" : 0,\n",
    "              }\n",
    "\n",
    "    header_val ={\"x-airbnb-api-key\":\"d306zoyjsyarp7ifhu67rjxn52tv0t20\"}\n",
    "    result_api = requests.get(\"https://api.airbnb.com/v2/homes_pdp_reviews\", headers = header_val, params=payload)\n",
    "    result_api_json = result_api.json()\n",
    "\n",
    "    return result_api_json['metadata']['reviews_count']\n",
    "\n",
    "def api_calls_val_review(listing_id_val, limit_val ):\n",
    "    payload = {\"listing_id\": listing_id_val ,\n",
    "               \"limit\" : limit_val,\n",
    "              }\n",
    "\n",
    "    header_val ={\"x-airbnb-api-key\":\"d306zoyjsyarp7ifhu67rjxn52tv0t20\"}\n",
    "    result_api = requests.get(\"https://api.airbnb.com/v2/homes_pdp_reviews\", headers = header_val, params=payload)\n",
    "    result_api_json = result_api.json()\n",
    "\n",
    "    reviews_list=[]\n",
    "    for i in result_api_json['reviews']:\n",
    "        reviews_list.append(i['comments'])\n",
    "    \n",
    "    return pd.DataFrae(reviews_list,columns=[listing_id_val])\n",
    "    "
   ]
  },
  {
   "cell_type": "code",
   "execution_count": null,
   "id": "ea615f78",
   "metadata": {},
   "outputs": [],
   "source": [
    "result = pd.DataFrame()\n",
    "for i in listing_ids_list:\n",
    "    limit_val = api_calls_count_review(i)\n",
    "    df1 = api_calls_val_review(i,limit_val)\n",
    "    result =  pd.concat([result,df1], axis=1)\n",
    "    \n",
    "result"
   ]
  },
  {
   "cell_type": "code",
   "execution_count": null,
   "id": "0b80ec9a",
   "metadata": {},
   "outputs": [],
   "source": []
  },
  {
   "cell_type": "code",
   "execution_count": null,
   "id": "bc3fe7b7",
   "metadata": {},
   "outputs": [],
   "source": []
  }
 ],
 "metadata": {
  "kernelspec": {
   "display_name": "Python 3 (ipykernel)",
   "language": "python",
   "name": "python3"
  },
  "language_info": {
   "codemirror_mode": {
    "name": "ipython",
    "version": 3
   },
   "file_extension": ".py",
   "mimetype": "text/x-python",
   "name": "python",
   "nbconvert_exporter": "python",
   "pygments_lexer": "ipython3",
   "version": "3.9.7"
  }
 },
 "nbformat": 4,
 "nbformat_minor": 5
}
